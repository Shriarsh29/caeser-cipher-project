{
  "nbformat": 4,
  "nbformat_minor": 0,
  "metadata": {
    "colab": {
      "provenance": []
    },
    "kernelspec": {
      "name": "python3",
      "display_name": "Python 3"
    },
    "language_info": {
      "name": "python"
    }
  },
  "cells": [
    {
      "cell_type": "code",
      "source": [],
      "metadata": {
        "id": "MBDBXd8XwIwT"
      },
      "execution_count": null,
      "outputs": []
    },
    {
      "cell_type": "code",
      "execution_count": 2,
      "metadata": {
        "colab": {
          "base_uri": "https://localhost:8080/"
        },
        "id": "IKrky3ywpvqM",
        "outputId": "eb93b3fd-9c50-47f0-c998-290de3f61767"
      },
      "outputs": [
        {
          "output_type": "stream",
          "name": "stdout",
          "text": [
            "Type 'encode' to encrypt, type 'decode' to decrypt:\n",
            "shri harsh\n",
            "Type your message:\n",
            "you are awesome\n",
            "Type the shift number:\n",
            "4\n",
            "Here is the shri harshd result: csy evi eaiwsqi\n",
            "Type 'yes' if you want to go again. Otherwise type 'no'.\n",
            "no\n",
            "Goodbye\n"
          ]
        }
      ],
      "source": [
        "def caeser(original_text, shift_amount, encode_or_decode):\n",
        "    alphabet = 'abcdefghijklmnopqrstuvwxyz'\n",
        "    output_text = \"\"\n",
        "    if encode_or_decode == \"dncode\":\n",
        "        shift_amount = shift_amount * -1\n",
        "    for letter in original_text:\n",
        "        if letter not in alphabet:\n",
        "            output_text += letter\n",
        "        else:\n",
        "            shifted_position = alphabet.index(letter) + shift_amount\n",
        "            shifted_position %= len(alphabet)\n",
        "            output_text += alphabet[shifted_position]\n",
        "    print(f\"Here is the {encode_or_decode}d result: {output_text}\")\n",
        "should_continue = True\n",
        "while should_continue:\n",
        "    direction = input(\"Type 'encode' to encrypt, type 'decode' to decrypt:\\n\")\n",
        "    text = input(\"Type your message:\\n\").lower()\n",
        "    shift = int(input(\"Type the shift number:\\n\"))\n",
        "    caeser(original_text=text, shift_amount=shift, encode_or_decode=direction)\n",
        "    restart = input(\"Type 'yes' if you want to go again. Otherwise type 'no'.\\n\")\n",
        "    if restart == \"no\":\n",
        "        should_continue = False\n",
        "        print(\"Goodbye\")"
      ]
    }
  ]
}